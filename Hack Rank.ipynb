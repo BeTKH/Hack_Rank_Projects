{
 "cells": [
  {
   "cell_type": "code",
   "execution_count": 25,
   "metadata": {},
   "outputs": [
    {
     "name": "stdout",
     "output_type": "stream",
     "text": [
      "1.1 2 3 4\n",
      "2\n",
      "26.8\n"
     ]
    }
   ],
   "source": [
    "import numpy\n",
    "\n",
    "inp = list(map(float,input().split()))\n",
    "x = int(input())\n",
    "print(numpy.polyval(inp, x))"
   ]
  },
  {
   "cell_type": "markdown",
   "metadata": {},
   "source": [
    "### Linear Algebra\n",
    "\n",
    "The NumPy module also comes with a number of built-in routines for linear algebra calculations. These can be found in the `sub-module linalg`.\n",
    "\n",
    "#### linalg.det\n",
    "\n",
    "The `linalg.det` tool computes the **determinant of an array**."
   ]
  },
  {
   "cell_type": "code",
   "execution_count": 28,
   "metadata": {},
   "outputs": [
    {
     "name": "stdout",
     "output_type": "stream",
     "text": [
      "-2.9999999999999996\n"
     ]
    }
   ],
   "source": [
    "import numpy\n",
    "print (numpy.linalg.det([[1 , 2], [2, 1]]) )"
   ]
  },
  {
   "cell_type": "markdown",
   "metadata": {},
   "source": [
    "#### linalg.eig\n",
    "\n",
    "The `linalg.eig` computes the `eigenvalues` and `right eigenvectors` of **a square array**."
   ]
  },
  {
   "cell_type": "code",
   "execution_count": 30,
   "metadata": {},
   "outputs": [
    {
     "name": "stdout",
     "output_type": "stream",
     "text": [
      "[ 3. -1.] \n",
      "\n",
      "[[ 0.70710678 -0.70710678]\n",
      " [ 0.70710678  0.70710678]]\n"
     ]
    }
   ],
   "source": [
    "vals, vecs = numpy.linalg.eig([[1 , 2], [2, 1]])\n",
    "print(vals, \"\\n\")\n",
    "print(vecs) "
   ]
  },
  {
   "cell_type": "markdown",
   "metadata": {},
   "source": [
    "#### linalg.inv\n",
    "\n",
    "The `linalg.inv` tool computes `the (multiplicative) inverse` of a matrix."
   ]
  },
  {
   "cell_type": "code",
   "execution_count": 31,
   "metadata": {},
   "outputs": [
    {
     "name": "stdout",
     "output_type": "stream",
     "text": [
      "[[-0.33333333  0.66666667]\n",
      " [ 0.66666667 -0.33333333]]\n"
     ]
    }
   ],
   "source": [
    "print (numpy.linalg.inv([[1 , 2], [2, 1]]))"
   ]
  },
  {
   "cell_type": "code",
   "execution_count": 32,
   "metadata": {},
   "outputs": [
    {
     "name": "stdout",
     "output_type": "stream",
     "text": [
      "-2.9999999999999996\n"
     ]
    }
   ],
   "source": [
    "import numpy\n",
    "\n",
    "print (numpy.linalg.det([[1 , 2], [2, 1]]) )"
   ]
  },
  {
   "cell_type": "code",
   "execution_count": 42,
   "metadata": {},
   "outputs": [
    {
     "name": "stdout",
     "output_type": "stream",
     "text": [
      "1.1 1.1\n",
      "1.2 1.2\n",
      "0.0\n"
     ]
    }
   ],
   "source": [
    "import numpy\n",
    "\n",
    "N = list(map(float,input().split()))\n",
    "M = list(map(float,input().split()))\n",
    "A = list((N,N))\n",
    "print (numpy.linalg.det([N, N]))"
   ]
  },
  {
   "cell_type": "code",
   "execution_count": 1,
   "metadata": {},
   "outputs": [
    {
     "name": "stdout",
     "output_type": "stream",
     "text": [
      "1.1 1.1\n",
      "1.1 1.1\n",
      "0.0\n"
     ]
    }
   ],
   "source": [
    "import numpy\n",
    "N = list(map(float,input().split()))\n",
    "M = list(map(float,input().split()))\n",
    "A = list((N,M))\n",
    "print (numpy.linalg.det([N, M]))"
   ]
  },
  {
   "cell_type": "code",
   "execution_count": null,
   "metadata": {},
   "outputs": [],
   "source": [
    "import numpy\n",
    "#create a list\n",
    "size = int(input())\n",
    "N = [1.1] * size\n",
    "\n",
    "#print(N)\n",
    "A = list((N,N))\n",
    "print (numpy.linalg.det([N, N]))"
   ]
  },
  {
   "cell_type": "markdown",
   "metadata": {},
   "source": []
  }
 ],
 "metadata": {
  "kernelspec": {
   "display_name": "Python 3",
   "language": "python",
   "name": "python3"
  },
  "language_info": {
   "codemirror_mode": {
    "name": "ipython",
    "version": 3
   },
   "file_extension": ".py",
   "mimetype": "text/x-python",
   "name": "python",
   "nbconvert_exporter": "python",
   "pygments_lexer": "ipython3",
   "version": "3.7.4"
  }
 },
 "nbformat": 4,
 "nbformat_minor": 2
}
